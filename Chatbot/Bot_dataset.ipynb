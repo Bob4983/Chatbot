{
 "cells": [
  {
   "cell_type": "code",
   "execution_count": 55,
   "metadata": {},
   "outputs": [],
   "source": [
    "import pandas as pd \n",
    "\n",
    "ds = open('chatbot_dataset.txt','r')\n",
    "ds = ds.read().split('\\t')\n",
    "for i in range(len(ds)) :\n",
    "    if '\\n' in ds[i] :\n",
    "        ds[i] = ds[i].split('\\n')\n",
    "ds_Q = []\n",
    "ds_A = []\n",
    "ds_Q_1 = []\n",
    "ds_A_1 = []\n",
    "for i in range(len(ds)):\n",
    "    if i % 2 == 0 :\n",
    "        ds_Q.append(ds[i])\n",
    "    else:\n",
    "        ds_A.append(ds[i])\n",
    "\n",
    "        \n",
    "for i in range(len(ds_Q)):\n",
    "    ds_Q_1.append(ds_Q[i][0])\n",
    "    ds_A_1.append(ds_A[i][0])\n",
    "\n",
    "data = {\"Question\":ds_Q_1,\"Answer\":ds_A_1}\n",
    "\n",
    "df = pd.DataFrame(data=data)\n",
    "df.to_csv(\"bot_dataset.csv\")"
   ]
  },
  {
   "cell_type": "code",
   "execution_count": null,
   "metadata": {},
   "outputs": [],
   "source": []
  }
 ],
 "metadata": {
  "kernelspec": {
   "display_name": "Python 3",
   "language": "python",
   "name": "python3"
  },
  "language_info": {
   "codemirror_mode": {
    "name": "ipython",
    "version": 3
   },
   "file_extension": ".py",
   "mimetype": "text/x-python",
   "name": "python",
   "nbconvert_exporter": "python",
   "pygments_lexer": "ipython3",
   "version": "3.8.5"
  }
 },
 "nbformat": 4,
 "nbformat_minor": 4
}
