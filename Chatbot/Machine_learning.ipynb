{
 "cells": [
  {
   "cell_type": "code",
   "execution_count": 37,
   "metadata": {},
   "outputs": [
    {
     "name": "stdout",
     "output_type": "stream",
     "text": [
      "[\"you're wearing out your right hand. stop using it so much.\"]\n"
     ]
    }
   ],
   "source": [
    "import pandas as pd \n",
    "import numpy as np\n",
    "from sklearn.tree import DecisionTreeClassifier as DTC\n",
    "#import joblib\n",
    "\n",
    "df = pd.read_csv('bot_dataset.csv')\n",
    "X = df.drop(columns=['Answer'])\n",
    "y = df.drop(columns=['Question'])\n",
    "y = y.drop(columns=[\"Unnamed: 0\"])\n",
    "X = X.drop(columns =[\"Unnamed: 0\"])\n",
    "Q_index = pd.DataFrame(data=np.array(range(len(X))),columns =[\"index\"])\n",
    "model = DTC()\n",
    "Q_index.astype(float)\n",
    "model.fit(Q_index,y)\n",
    "\n",
    "for i in range(len(X)) :\n",
    "    if s in X[\"Question\"][i]:\n",
    "        pre = model.predict(Q_index[\"index\"][i].reshape(-1, 1))\n",
    "        "
   ]
  },
  {
   "cell_type": "code",
   "execution_count": null,
   "metadata": {},
   "outputs": [],
   "source": []
  },
  {
   "cell_type": "code",
   "execution_count": null,
   "metadata": {},
   "outputs": [],
   "source": []
  }
 ],
 "metadata": {
  "kernelspec": {
   "display_name": "Python 3",
   "language": "python",
   "name": "python3"
  },
  "language_info": {
   "codemirror_mode": {
    "name": "ipython",
    "version": 3
   },
   "file_extension": ".py",
   "mimetype": "text/x-python",
   "name": "python",
   "nbconvert_exporter": "python",
   "pygments_lexer": "ipython3",
   "version": "3.8.5"
  }
 },
 "nbformat": 4,
 "nbformat_minor": 4
}
